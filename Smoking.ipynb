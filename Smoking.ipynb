{
 "cells": [
  {
   "cell_type": "code",
   "execution_count": 98,
   "id": "d9e9c98c",
   "metadata": {},
   "outputs": [],
   "source": [
    "import pandas as pd\n",
    "import numpy as np\n",
    "import matplotlib.pyplot as plt\n",
    "import seaborn as sns \n",
    "%matplotlib inline\n",
    "plt.style.use('dark_background')\n",
    "import plotly.express as px"
   ]
  },
  {
   "cell_type": "markdown",
   "id": "a358b8c8",
   "metadata": {},
   "source": [
    "# Explore data"
   ]
  },
  {
   "cell_type": "code",
   "execution_count": 99,
   "id": "d32c69e1",
   "metadata": {},
   "outputs": [],
   "source": [
    "# Read The dateset\n",
    "\n",
    "df = pd.read_csv('E:/dataset/smoking.csv')"
   ]
  },
  {
   "cell_type": "code",
   "execution_count": 100,
   "id": "08b59d54",
   "metadata": {},
   "outputs": [
    {
     "data": {
      "text/html": [
       "<div>\n",
       "<style scoped>\n",
       "    .dataframe tbody tr th:only-of-type {\n",
       "        vertical-align: middle;\n",
       "    }\n",
       "\n",
       "    .dataframe tbody tr th {\n",
       "        vertical-align: top;\n",
       "    }\n",
       "\n",
       "    .dataframe thead th {\n",
       "        text-align: right;\n",
       "    }\n",
       "</style>\n",
       "<table border=\"1\" class=\"dataframe\">\n",
       "  <thead>\n",
       "    <tr style=\"text-align: right;\">\n",
       "      <th></th>\n",
       "      <th>ID</th>\n",
       "      <th>gender</th>\n",
       "      <th>age</th>\n",
       "      <th>height(cm)</th>\n",
       "      <th>weight(kg)</th>\n",
       "      <th>waist(cm)</th>\n",
       "      <th>eyesight(left)</th>\n",
       "      <th>eyesight(right)</th>\n",
       "      <th>hearing(left)</th>\n",
       "      <th>hearing(right)</th>\n",
       "      <th>...</th>\n",
       "      <th>hemoglobin</th>\n",
       "      <th>Urine protein</th>\n",
       "      <th>serum creatinine</th>\n",
       "      <th>AST</th>\n",
       "      <th>ALT</th>\n",
       "      <th>Gtp</th>\n",
       "      <th>oral</th>\n",
       "      <th>dental caries</th>\n",
       "      <th>tartar</th>\n",
       "      <th>smoking</th>\n",
       "    </tr>\n",
       "  </thead>\n",
       "  <tbody>\n",
       "    <tr>\n",
       "      <th>0</th>\n",
       "      <td>0</td>\n",
       "      <td>F</td>\n",
       "      <td>40</td>\n",
       "      <td>155</td>\n",
       "      <td>60</td>\n",
       "      <td>81.3</td>\n",
       "      <td>1.2</td>\n",
       "      <td>1.0</td>\n",
       "      <td>1</td>\n",
       "      <td>1</td>\n",
       "      <td>...</td>\n",
       "      <td>12.9</td>\n",
       "      <td>1</td>\n",
       "      <td>0.7</td>\n",
       "      <td>18</td>\n",
       "      <td>19</td>\n",
       "      <td>27</td>\n",
       "      <td>Y</td>\n",
       "      <td>0</td>\n",
       "      <td>Y</td>\n",
       "      <td>0</td>\n",
       "    </tr>\n",
       "    <tr>\n",
       "      <th>1</th>\n",
       "      <td>1</td>\n",
       "      <td>F</td>\n",
       "      <td>40</td>\n",
       "      <td>160</td>\n",
       "      <td>60</td>\n",
       "      <td>81.0</td>\n",
       "      <td>0.8</td>\n",
       "      <td>0.6</td>\n",
       "      <td>1</td>\n",
       "      <td>1</td>\n",
       "      <td>...</td>\n",
       "      <td>12.7</td>\n",
       "      <td>1</td>\n",
       "      <td>0.6</td>\n",
       "      <td>22</td>\n",
       "      <td>19</td>\n",
       "      <td>18</td>\n",
       "      <td>Y</td>\n",
       "      <td>0</td>\n",
       "      <td>Y</td>\n",
       "      <td>0</td>\n",
       "    </tr>\n",
       "    <tr>\n",
       "      <th>2</th>\n",
       "      <td>2</td>\n",
       "      <td>M</td>\n",
       "      <td>55</td>\n",
       "      <td>170</td>\n",
       "      <td>60</td>\n",
       "      <td>80.0</td>\n",
       "      <td>0.8</td>\n",
       "      <td>0.8</td>\n",
       "      <td>1</td>\n",
       "      <td>1</td>\n",
       "      <td>...</td>\n",
       "      <td>15.8</td>\n",
       "      <td>1</td>\n",
       "      <td>1.0</td>\n",
       "      <td>21</td>\n",
       "      <td>16</td>\n",
       "      <td>22</td>\n",
       "      <td>Y</td>\n",
       "      <td>0</td>\n",
       "      <td>N</td>\n",
       "      <td>1</td>\n",
       "    </tr>\n",
       "    <tr>\n",
       "      <th>3</th>\n",
       "      <td>3</td>\n",
       "      <td>M</td>\n",
       "      <td>40</td>\n",
       "      <td>165</td>\n",
       "      <td>70</td>\n",
       "      <td>88.0</td>\n",
       "      <td>1.5</td>\n",
       "      <td>1.5</td>\n",
       "      <td>1</td>\n",
       "      <td>1</td>\n",
       "      <td>...</td>\n",
       "      <td>14.7</td>\n",
       "      <td>1</td>\n",
       "      <td>1.0</td>\n",
       "      <td>19</td>\n",
       "      <td>26</td>\n",
       "      <td>18</td>\n",
       "      <td>Y</td>\n",
       "      <td>0</td>\n",
       "      <td>Y</td>\n",
       "      <td>0</td>\n",
       "    </tr>\n",
       "    <tr>\n",
       "      <th>4</th>\n",
       "      <td>4</td>\n",
       "      <td>F</td>\n",
       "      <td>40</td>\n",
       "      <td>155</td>\n",
       "      <td>60</td>\n",
       "      <td>86.0</td>\n",
       "      <td>1.0</td>\n",
       "      <td>1.0</td>\n",
       "      <td>1</td>\n",
       "      <td>1</td>\n",
       "      <td>...</td>\n",
       "      <td>12.5</td>\n",
       "      <td>1</td>\n",
       "      <td>0.6</td>\n",
       "      <td>16</td>\n",
       "      <td>14</td>\n",
       "      <td>22</td>\n",
       "      <td>Y</td>\n",
       "      <td>0</td>\n",
       "      <td>N</td>\n",
       "      <td>0</td>\n",
       "    </tr>\n",
       "  </tbody>\n",
       "</table>\n",
       "<p>5 rows × 27 columns</p>\n",
       "</div>"
      ],
      "text/plain": [
       "   ID gender  age  height(cm)  weight(kg)  waist(cm)  eyesight(left)  \\\n",
       "0   0      F   40         155          60       81.3             1.2   \n",
       "1   1      F   40         160          60       81.0             0.8   \n",
       "2   2      M   55         170          60       80.0             0.8   \n",
       "3   3      M   40         165          70       88.0             1.5   \n",
       "4   4      F   40         155          60       86.0             1.0   \n",
       "\n",
       "   eyesight(right)  hearing(left)  hearing(right)  ...  hemoglobin  \\\n",
       "0              1.0              1               1  ...        12.9   \n",
       "1              0.6              1               1  ...        12.7   \n",
       "2              0.8              1               1  ...        15.8   \n",
       "3              1.5              1               1  ...        14.7   \n",
       "4              1.0              1               1  ...        12.5   \n",
       "\n",
       "   Urine protein  serum creatinine  AST  ALT  Gtp  oral  dental caries  \\\n",
       "0              1               0.7   18   19   27     Y              0   \n",
       "1              1               0.6   22   19   18     Y              0   \n",
       "2              1               1.0   21   16   22     Y              0   \n",
       "3              1               1.0   19   26   18     Y              0   \n",
       "4              1               0.6   16   14   22     Y              0   \n",
       "\n",
       "   tartar  smoking  \n",
       "0       Y        0  \n",
       "1       Y        0  \n",
       "2       N        1  \n",
       "3       Y        0  \n",
       "4       N        0  \n",
       "\n",
       "[5 rows x 27 columns]"
      ]
     },
     "execution_count": 100,
     "metadata": {},
     "output_type": "execute_result"
    }
   ],
   "source": [
    "# show The dataset\n",
    "\n",
    "df.head()"
   ]
  },
  {
   "cell_type": "code",
   "execution_count": 101,
   "id": "572ef830",
   "metadata": {},
   "outputs": [
    {
     "data": {
      "text/plain": [
       "Index(['ID', 'gender', 'age', 'height(cm)', 'weight(kg)', 'waist(cm)',\n",
       "       'eyesight(left)', 'eyesight(right)', 'hearing(left)', 'hearing(right)',\n",
       "       'systolic', 'relaxation', 'fasting blood sugar', 'Cholesterol',\n",
       "       'triglyceride', 'HDL', 'LDL', 'hemoglobin', 'Urine protein',\n",
       "       'serum creatinine', 'AST', 'ALT', 'Gtp', 'oral', 'dental caries',\n",
       "       'tartar', 'smoking'],\n",
       "      dtype='object')"
      ]
     },
     "execution_count": 101,
     "metadata": {},
     "output_type": "execute_result"
    }
   ],
   "source": [
    "# Show The columns\n",
    "\n",
    "df.columns"
   ]
  },
  {
   "cell_type": "code",
   "execution_count": null,
   "id": "0b983f56",
   "metadata": {},
   "outputs": [],
   "source": []
  },
  {
   "cell_type": "code",
   "execution_count": 102,
   "id": "d4cd98fb",
   "metadata": {},
   "outputs": [
    {
     "name": "stdout",
     "output_type": "stream",
     "text": [
      "<class 'pandas.core.frame.DataFrame'>\n",
      "RangeIndex: 55692 entries, 0 to 55691\n",
      "Data columns (total 27 columns):\n",
      " #   Column               Non-Null Count  Dtype  \n",
      "---  ------               --------------  -----  \n",
      " 0   ID                   55692 non-null  int64  \n",
      " 1   gender               55692 non-null  object \n",
      " 2   age                  55692 non-null  int64  \n",
      " 3   height(cm)           55692 non-null  int64  \n",
      " 4   weight(kg)           55692 non-null  int64  \n",
      " 5   waist(cm)            55692 non-null  float64\n",
      " 6   eyesight(left)       55692 non-null  float64\n",
      " 7   eyesight(right)      55692 non-null  float64\n",
      " 8   hearing(left)        55692 non-null  int64  \n",
      " 9   hearing(right)       55692 non-null  int64  \n",
      " 10  systolic             55692 non-null  int64  \n",
      " 11  relaxation           55692 non-null  int64  \n",
      " 12  fasting blood sugar  55692 non-null  int64  \n",
      " 13  Cholesterol          55692 non-null  int64  \n",
      " 14  triglyceride         55692 non-null  int64  \n",
      " 15  HDL                  55692 non-null  int64  \n",
      " 16  LDL                  55692 non-null  int64  \n",
      " 17  hemoglobin           55692 non-null  float64\n",
      " 18  Urine protein        55692 non-null  int64  \n",
      " 19  serum creatinine     55692 non-null  float64\n",
      " 20  AST                  55692 non-null  int64  \n",
      " 21  ALT                  55692 non-null  int64  \n",
      " 22  Gtp                  55692 non-null  int64  \n",
      " 23  oral                 55692 non-null  object \n",
      " 24  dental caries        55692 non-null  int64  \n",
      " 25  tartar               55692 non-null  object \n",
      " 26  smoking              55692 non-null  int64  \n",
      "dtypes: float64(5), int64(19), object(3)\n",
      "memory usage: 11.5+ MB\n"
     ]
    }
   ],
   "source": [
    "# The details for data \n",
    "\n",
    "df.info()"
   ]
  },
  {
   "cell_type": "code",
   "execution_count": 103,
   "id": "952f0dbc",
   "metadata": {},
   "outputs": [],
   "source": [
    "# replace and Fixed The Gander\n",
    "\n",
    "df['gender'].replace('F','female',inplace=True)\n",
    "df['gender'].replace('M','male',inplace=True)"
   ]
  },
  {
   "cell_type": "code",
   "execution_count": 104,
   "id": "2f22d817",
   "metadata": {},
   "outputs": [
    {
     "data": {
      "text/html": [
       "<div>\n",
       "<style scoped>\n",
       "    .dataframe tbody tr th:only-of-type {\n",
       "        vertical-align: middle;\n",
       "    }\n",
       "\n",
       "    .dataframe tbody tr th {\n",
       "        vertical-align: top;\n",
       "    }\n",
       "\n",
       "    .dataframe thead th {\n",
       "        text-align: right;\n",
       "    }\n",
       "</style>\n",
       "<table border=\"1\" class=\"dataframe\">\n",
       "  <thead>\n",
       "    <tr style=\"text-align: right;\">\n",
       "      <th></th>\n",
       "      <th>ID</th>\n",
       "      <th>age</th>\n",
       "      <th>height(cm)</th>\n",
       "      <th>weight(kg)</th>\n",
       "      <th>waist(cm)</th>\n",
       "      <th>eyesight(left)</th>\n",
       "      <th>eyesight(right)</th>\n",
       "      <th>hearing(left)</th>\n",
       "      <th>hearing(right)</th>\n",
       "      <th>systolic</th>\n",
       "      <th>...</th>\n",
       "      <th>HDL</th>\n",
       "      <th>LDL</th>\n",
       "      <th>hemoglobin</th>\n",
       "      <th>Urine protein</th>\n",
       "      <th>serum creatinine</th>\n",
       "      <th>AST</th>\n",
       "      <th>ALT</th>\n",
       "      <th>Gtp</th>\n",
       "      <th>dental caries</th>\n",
       "      <th>smoking</th>\n",
       "    </tr>\n",
       "  </thead>\n",
       "  <tbody>\n",
       "    <tr>\n",
       "      <th>count</th>\n",
       "      <td>55692.00</td>\n",
       "      <td>55692.00</td>\n",
       "      <td>55692.00</td>\n",
       "      <td>55692.00</td>\n",
       "      <td>55692.00</td>\n",
       "      <td>55692.00</td>\n",
       "      <td>55692.00</td>\n",
       "      <td>55692.00</td>\n",
       "      <td>55692.00</td>\n",
       "      <td>55692.00</td>\n",
       "      <td>...</td>\n",
       "      <td>55692.00</td>\n",
       "      <td>55692.00</td>\n",
       "      <td>55692.00</td>\n",
       "      <td>55692.00</td>\n",
       "      <td>55692.00</td>\n",
       "      <td>55692.00</td>\n",
       "      <td>55692.00</td>\n",
       "      <td>55692.00</td>\n",
       "      <td>55692.00</td>\n",
       "      <td>55692.00</td>\n",
       "    </tr>\n",
       "    <tr>\n",
       "      <th>mean</th>\n",
       "      <td>27845.50</td>\n",
       "      <td>44.18</td>\n",
       "      <td>164.65</td>\n",
       "      <td>65.86</td>\n",
       "      <td>82.05</td>\n",
       "      <td>1.01</td>\n",
       "      <td>1.01</td>\n",
       "      <td>1.03</td>\n",
       "      <td>1.03</td>\n",
       "      <td>121.49</td>\n",
       "      <td>...</td>\n",
       "      <td>57.29</td>\n",
       "      <td>114.96</td>\n",
       "      <td>14.62</td>\n",
       "      <td>1.09</td>\n",
       "      <td>0.89</td>\n",
       "      <td>26.18</td>\n",
       "      <td>27.04</td>\n",
       "      <td>39.95</td>\n",
       "      <td>0.21</td>\n",
       "      <td>0.37</td>\n",
       "    </tr>\n",
       "    <tr>\n",
       "      <th>std</th>\n",
       "      <td>16077.04</td>\n",
       "      <td>12.07</td>\n",
       "      <td>9.19</td>\n",
       "      <td>12.82</td>\n",
       "      <td>9.27</td>\n",
       "      <td>0.49</td>\n",
       "      <td>0.49</td>\n",
       "      <td>0.16</td>\n",
       "      <td>0.16</td>\n",
       "      <td>13.68</td>\n",
       "      <td>...</td>\n",
       "      <td>14.74</td>\n",
       "      <td>40.93</td>\n",
       "      <td>1.56</td>\n",
       "      <td>0.40</td>\n",
       "      <td>0.22</td>\n",
       "      <td>19.36</td>\n",
       "      <td>30.95</td>\n",
       "      <td>50.29</td>\n",
       "      <td>0.41</td>\n",
       "      <td>0.48</td>\n",
       "    </tr>\n",
       "    <tr>\n",
       "      <th>min</th>\n",
       "      <td>0.00</td>\n",
       "      <td>20.00</td>\n",
       "      <td>130.00</td>\n",
       "      <td>30.00</td>\n",
       "      <td>51.00</td>\n",
       "      <td>0.10</td>\n",
       "      <td>0.10</td>\n",
       "      <td>1.00</td>\n",
       "      <td>1.00</td>\n",
       "      <td>71.00</td>\n",
       "      <td>...</td>\n",
       "      <td>4.00</td>\n",
       "      <td>1.00</td>\n",
       "      <td>4.90</td>\n",
       "      <td>1.00</td>\n",
       "      <td>0.10</td>\n",
       "      <td>6.00</td>\n",
       "      <td>1.00</td>\n",
       "      <td>1.00</td>\n",
       "      <td>0.00</td>\n",
       "      <td>0.00</td>\n",
       "    </tr>\n",
       "    <tr>\n",
       "      <th>25%</th>\n",
       "      <td>13922.75</td>\n",
       "      <td>40.00</td>\n",
       "      <td>160.00</td>\n",
       "      <td>55.00</td>\n",
       "      <td>76.00</td>\n",
       "      <td>0.80</td>\n",
       "      <td>0.80</td>\n",
       "      <td>1.00</td>\n",
       "      <td>1.00</td>\n",
       "      <td>112.00</td>\n",
       "      <td>...</td>\n",
       "      <td>47.00</td>\n",
       "      <td>92.00</td>\n",
       "      <td>13.60</td>\n",
       "      <td>1.00</td>\n",
       "      <td>0.80</td>\n",
       "      <td>19.00</td>\n",
       "      <td>15.00</td>\n",
       "      <td>17.00</td>\n",
       "      <td>0.00</td>\n",
       "      <td>0.00</td>\n",
       "    </tr>\n",
       "    <tr>\n",
       "      <th>50%</th>\n",
       "      <td>27845.50</td>\n",
       "      <td>40.00</td>\n",
       "      <td>165.00</td>\n",
       "      <td>65.00</td>\n",
       "      <td>82.00</td>\n",
       "      <td>1.00</td>\n",
       "      <td>1.00</td>\n",
       "      <td>1.00</td>\n",
       "      <td>1.00</td>\n",
       "      <td>120.00</td>\n",
       "      <td>...</td>\n",
       "      <td>55.00</td>\n",
       "      <td>113.00</td>\n",
       "      <td>14.80</td>\n",
       "      <td>1.00</td>\n",
       "      <td>0.90</td>\n",
       "      <td>23.00</td>\n",
       "      <td>21.00</td>\n",
       "      <td>25.00</td>\n",
       "      <td>0.00</td>\n",
       "      <td>0.00</td>\n",
       "    </tr>\n",
       "    <tr>\n",
       "      <th>75%</th>\n",
       "      <td>41768.25</td>\n",
       "      <td>55.00</td>\n",
       "      <td>170.00</td>\n",
       "      <td>75.00</td>\n",
       "      <td>88.00</td>\n",
       "      <td>1.20</td>\n",
       "      <td>1.20</td>\n",
       "      <td>1.00</td>\n",
       "      <td>1.00</td>\n",
       "      <td>130.00</td>\n",
       "      <td>...</td>\n",
       "      <td>66.00</td>\n",
       "      <td>136.00</td>\n",
       "      <td>15.80</td>\n",
       "      <td>1.00</td>\n",
       "      <td>1.00</td>\n",
       "      <td>28.00</td>\n",
       "      <td>31.00</td>\n",
       "      <td>43.00</td>\n",
       "      <td>0.00</td>\n",
       "      <td>1.00</td>\n",
       "    </tr>\n",
       "    <tr>\n",
       "      <th>max</th>\n",
       "      <td>55691.00</td>\n",
       "      <td>85.00</td>\n",
       "      <td>190.00</td>\n",
       "      <td>135.00</td>\n",
       "      <td>129.00</td>\n",
       "      <td>9.90</td>\n",
       "      <td>9.90</td>\n",
       "      <td>2.00</td>\n",
       "      <td>2.00</td>\n",
       "      <td>240.00</td>\n",
       "      <td>...</td>\n",
       "      <td>618.00</td>\n",
       "      <td>1860.00</td>\n",
       "      <td>21.10</td>\n",
       "      <td>6.00</td>\n",
       "      <td>11.60</td>\n",
       "      <td>1311.00</td>\n",
       "      <td>2914.00</td>\n",
       "      <td>999.00</td>\n",
       "      <td>1.00</td>\n",
       "      <td>1.00</td>\n",
       "    </tr>\n",
       "  </tbody>\n",
       "</table>\n",
       "<p>8 rows × 24 columns</p>\n",
       "</div>"
      ],
      "text/plain": [
       "             ID       age  height(cm)  weight(kg)  waist(cm)  eyesight(left)  \\\n",
       "count  55692.00  55692.00    55692.00    55692.00   55692.00        55692.00   \n",
       "mean   27845.50     44.18      164.65       65.86      82.05            1.01   \n",
       "std    16077.04     12.07        9.19       12.82       9.27            0.49   \n",
       "min        0.00     20.00      130.00       30.00      51.00            0.10   \n",
       "25%    13922.75     40.00      160.00       55.00      76.00            0.80   \n",
       "50%    27845.50     40.00      165.00       65.00      82.00            1.00   \n",
       "75%    41768.25     55.00      170.00       75.00      88.00            1.20   \n",
       "max    55691.00     85.00      190.00      135.00     129.00            9.90   \n",
       "\n",
       "       eyesight(right)  hearing(left)  hearing(right)  systolic  ...  \\\n",
       "count         55692.00       55692.00        55692.00  55692.00  ...   \n",
       "mean              1.01           1.03            1.03    121.49  ...   \n",
       "std               0.49           0.16            0.16     13.68  ...   \n",
       "min               0.10           1.00            1.00     71.00  ...   \n",
       "25%               0.80           1.00            1.00    112.00  ...   \n",
       "50%               1.00           1.00            1.00    120.00  ...   \n",
       "75%               1.20           1.00            1.00    130.00  ...   \n",
       "max               9.90           2.00            2.00    240.00  ...   \n",
       "\n",
       "            HDL       LDL  hemoglobin  Urine protein  serum creatinine  \\\n",
       "count  55692.00  55692.00    55692.00       55692.00          55692.00   \n",
       "mean      57.29    114.96       14.62           1.09              0.89   \n",
       "std       14.74     40.93        1.56           0.40              0.22   \n",
       "min        4.00      1.00        4.90           1.00              0.10   \n",
       "25%       47.00     92.00       13.60           1.00              0.80   \n",
       "50%       55.00    113.00       14.80           1.00              0.90   \n",
       "75%       66.00    136.00       15.80           1.00              1.00   \n",
       "max      618.00   1860.00       21.10           6.00             11.60   \n",
       "\n",
       "            AST       ALT       Gtp  dental caries   smoking  \n",
       "count  55692.00  55692.00  55692.00       55692.00  55692.00  \n",
       "mean      26.18     27.04     39.95           0.21      0.37  \n",
       "std       19.36     30.95     50.29           0.41      0.48  \n",
       "min        6.00      1.00      1.00           0.00      0.00  \n",
       "25%       19.00     15.00     17.00           0.00      0.00  \n",
       "50%       23.00     21.00     25.00           0.00      0.00  \n",
       "75%       28.00     31.00     43.00           0.00      1.00  \n",
       "max     1311.00   2914.00    999.00           1.00      1.00  \n",
       "\n",
       "[8 rows x 24 columns]"
      ]
     },
     "execution_count": 104,
     "metadata": {},
     "output_type": "execute_result"
    }
   ],
   "source": [
    "# show The describe \n",
    "\n",
    "df.describe().round(2)"
   ]
  },
  {
   "cell_type": "code",
   "execution_count": 105,
   "id": "8289eb17",
   "metadata": {},
   "outputs": [
    {
     "data": {
      "text/plain": [
       "ID                     0\n",
       "gender                 0\n",
       "age                    0\n",
       "height(cm)             0\n",
       "weight(kg)             0\n",
       "waist(cm)              0\n",
       "eyesight(left)         0\n",
       "eyesight(right)        0\n",
       "hearing(left)          0\n",
       "hearing(right)         0\n",
       "systolic               0\n",
       "relaxation             0\n",
       "fasting blood sugar    0\n",
       "Cholesterol            0\n",
       "triglyceride           0\n",
       "HDL                    0\n",
       "LDL                    0\n",
       "hemoglobin             0\n",
       "Urine protein          0\n",
       "serum creatinine       0\n",
       "AST                    0\n",
       "ALT                    0\n",
       "Gtp                    0\n",
       "oral                   0\n",
       "dental caries          0\n",
       "tartar                 0\n",
       "smoking                0\n",
       "dtype: int64"
      ]
     },
     "execution_count": 105,
     "metadata": {},
     "output_type": "execute_result"
    }
   ],
   "source": [
    "# Show The any maissing data\n",
    "\n",
    "df.isnull().sum()"
   ]
  },
  {
   "cell_type": "code",
   "execution_count": 106,
   "id": "460d7af1",
   "metadata": {},
   "outputs": [
    {
     "data": {
      "text/plain": [
       "<AxesSubplot: >"
      ]
     },
     "execution_count": 106,
     "metadata": {},
     "output_type": "execute_result"
    },
    {
     "data": {
      "image/png": "[encoded data removed]",
      "text/plain": [
       "<Figure size 2000x1000 with 1 Axes>"
      ]
     },
     "metadata": {},
     "output_type": "display_data"
    }
   ],
   "source": [
    "# Show The any outliars in data\n",
    "plt.figure(figsize=(20,10))\n",
    "df.boxplot()"
   ]
  },
  {
   "cell_type": "code",
   "execution_count": 107,
   "id": "4c68b634",
   "metadata": {},
   "outputs": [
    {
     "data": {
      "text/plain": [
       "0"
      ]
     },
     "execution_count": 107,
     "metadata": {},
     "output_type": "execute_result"
    }
   ],
   "source": [
    "# show The any duplicated data\n",
    "\n",
    "df.duplicated().sum()"
   ]
  },
  {
   "cell_type": "markdown",
   "id": "b5e2be8f",
   "metadata": {},
   "source": [
    "# Analysis and Visualization "
   ]
  },
  {
   "cell_type": "code",
   "execution_count": 134,
   "id": "ec706307",
   "metadata": {},
   "outputs": [
    {
     "name": "stdout",
     "output_type": "stream",
     "text": [
      "0    35237\n",
      "1    20455\n",
      "Name: smoking, dtype: int64\n"
     ]
    },
    {
     "data": {
      "text/plain": [
       "Text(0.5, 1.0, 'Smoking')"
      ]
     },
     "execution_count": 134,
     "metadata": {},
     "output_type": "execute_result"
    },
    {
     "data": {
      "image/png": "[encoded data removed]",
      "text/plain": [
       "<Figure size 1000x700 with 1 Axes>"
      ]
     },
     "metadata": {},
     "output_type": "display_data"
    }
   ],
   "source": [
    "# Show The Count male and famle for Gender\n",
    "\n",
    "smoking= df['smoking'].value_counts()\n",
    "print(smoking)\n",
    "\n",
    "plt.figure(figsize=(10,7))\n",
    "smoking.plot(kind='bar')\n",
    "plt.title('Smoking')"
   ]
  },
  {
   "cell_type": "markdown",
   "id": "1d8b1a28",
   "metadata": {},
   "source": [
    "###### We notice that the percentage of smokers is less\n",
    "\n",
    "- 0    35237\n",
    "- 1    20455"
   ]
  },
  {
   "cell_type": "code",
   "execution_count": 120,
   "id": "99c10a97",
   "metadata": {},
   "outputs": [
    {
     "name": "stdout",
     "output_type": "stream",
     "text": [
      "gender\n",
      "female    0.042334\n",
      "male      0.553544\n",
      "Name: smoking, dtype: float64\n"
     ]
    },
    {
     "data": {
      "text/plain": [
       "Text(0.5, 1.0, 'Avg Gender by smoking')"
      ]
     },
     "execution_count": 120,
     "metadata": {},
     "output_type": "execute_result"
    },
    {
     "data": {
      "image/png": "[encoded data removed]",
      "text/plain": [
       "<Figure size 1000x700 with 1 Axes>"
      ]
     },
     "metadata": {},
     "output_type": "display_data"
    }
   ],
   "source": [
    "# Sohw The average Gender by Smoking\n",
    "\n",
    "Gen_Somk = df.groupby('gender')['smoking'].mean()\n",
    "print(Gen_Somk)\n",
    "\n",
    "plt.figure(figsize=(10,7))\n",
    "Gen_Somk.plot(kind='bar')\n",
    "plt.title('Avg Gender by smoking')\n"
   ]
  },
  {
   "cell_type": "code",
   "execution_count": 147,
   "id": "be0fbdd0",
   "metadata": {},
   "outputs": [
    {
     "data": {
      "text/plain": [
       "male      35401\n",
       "female    20291\n",
       "Name: gender, dtype: int64"
      ]
     },
     "execution_count": 147,
     "metadata": {},
     "output_type": "execute_result"
    }
   ],
   "source": [
    "df_gender = df['gender'].value_counts()\n",
    "df_gender"
   ]
  },
  {
   "cell_type": "markdown",
   "id": "0c4b448c",
   "metadata": {},
   "source": [
    "##### We conclude here that the average male smoker is higher than females because the percentage of data participants is higher than females"
   ]
  },
  {
   "cell_type": "code",
   "execution_count": 145,
   "id": "1914f16a",
   "metadata": {},
   "outputs": [
    {
     "name": "stdout",
     "output_type": "stream",
     "text": [
      "smoking  gender\n",
      "0        female    48.915449\n",
      "         male      41.697564\n",
      "1        female    46.385332\n",
      "         male      41.397989\n",
      "Name: age, dtype: float64\n"
     ]
    },
    {
     "data": {
      "image/png": "[encoded data removed]",
      "text/plain": [
       "<Figure size 1000x700 with 1 Axes>"
      ]
     },
     "metadata": {},
     "output_type": "display_data"
    }
   ],
   "source": [
    "# Show The average smoking and gender by Age\n",
    "\n",
    "Gen_age = df.groupby(['smoking','gender'])['age'].mean()\n",
    "print(Gen_age)\n",
    "\n",
    "Gen_age.plot(kind = 'bar',figsize=(10,7))\n",
    "plt.title('Average smoking and Gender by Age');"
   ]
  },
  {
   "cell_type": "markdown",
   "id": "aa97aabf",
   "metadata": {},
   "source": [
    "##### We note that smoking affects the lives of people, whether men or women, and that the mortality rate is higher for smokers. \n",
    "\n"
   ]
  },
  {
   "cell_type": "code",
   "execution_count": 131,
   "id": "d5912208",
   "metadata": {},
   "outputs": [
    {
     "name": "stdout",
     "output_type": "stream",
     "text": [
      "smoking\n",
      "0    45.677981\n",
      "1    41.607431\n",
      "Name: age, dtype: float64\n"
     ]
    },
    {
     "data": {
      "image/png": "[encoded data removed]",
      "text/plain": [
       "<Figure size 640x480 with 1 Axes>"
      ]
     },
     "metadata": {},
     "output_type": "display_data"
    }
   ],
   "source": [
    "# The average age by smoking\n",
    "\n",
    "smok_age = df.groupby('smoking')['age'].mean()\n",
    "print(smok_age)\n",
    "\n",
    "smok_age.plot(kind = 'pie',colors='b', autopct='%1.2f%%', startangle=90)\n",
    "plt.title('Average age by smoking');"
   ]
  },
  {
   "cell_type": "markdown",
   "id": "18898cb5",
   "metadata": {},
   "source": [
    "##### We notice that smoking affects people's lives and that the mortality rate is higher"
   ]
  },
  {
   "cell_type": "code",
   "execution_count": 128,
   "id": "4518188f",
   "metadata": {},
   "outputs": [
    {
     "data": {
      "text/plain": [
       "smoking\n",
       "0    62.907455\n",
       "1    70.959668\n",
       "Name: weight(kg), dtype: float64"
      ]
     },
     "execution_count": 128,
     "metadata": {},
     "output_type": "execute_result"
    }
   ],
   "source": [
    "# The average smoking by weight\n",
    "\n",
    "avg_w_h = df.groupby('smoking')['weight(kg)'].mean()\n",
    "avg_w_h"
   ]
  },
  {
   "cell_type": "code",
   "execution_count": null,
   "id": "7cf6f69b",
   "metadata": {},
   "outputs": [],
   "source": []
  },
  {
   "cell_type": "code",
   "execution_count": 127,
   "id": "86e86c0c",
   "metadata": {},
   "outputs": [
    {
     "data": {
      "text/plain": [
       "smoking\n",
       "0     97.723501\n",
       "1    102.049328\n",
       "Name: fasting blood sugar, dtype: float64"
      ]
     },
     "execution_count": 127,
     "metadata": {},
     "output_type": "execute_result"
    }
   ],
   "source": [
    "# The average smoking have fasting blood sugar\n",
    "\n",
    "avg_somk_sugur = df.groupby('smoking')['fasting blood sugar'].mean()\n",
    "avg_somk_sugur"
   ]
  },
  {
   "cell_type": "markdown",
   "id": "097829a7",
   "metadata": {},
   "source": [
    "#### We notice that the percentage of sugar for smokers is higher "
   ]
  },
  {
   "cell_type": "markdown",
   "id": "42007a13",
   "metadata": {},
   "source": [
    "# Conclusion "
   ]
  },
  {
   "cell_type": "markdown",
   "id": "2bdb7b68",
   "metadata": {},
   "source": [
    "##### We notice that the percentage of smokers is less\n",
    "- 0 35237\n",
    "- 1 20455\n",
    "\n",
    "#### And that the percentage of smokers is higher in men \n",
    "- female    0.042334\n",
    "- male      0.553544\n",
    "\n",
    "#### We conclude that the average male smoker is higher than the female because the proportion of data participants is higher than the female population\n",
    "\n",
    "#### We note that smoking affects the lives of people, whether men or women, and that the mortality rate is higher for smokers. \n",
    "\n",
    "#### We notice that the percentage of sugar for smokers is higher\n",
    "\n",
    "- 0     97.723501\n",
    "- 1    102.049328\n"
   ]
  },
  {
   "cell_type": "markdown",
   "id": "3b17dceb",
   "metadata": {},
   "source": [
    "# The End"
   ]
  },
  {
   "cell_type": "code",
   "execution_count": null,
   "id": "0a58093f",
   "metadata": {},
   "outputs": [],
   "source": []
  },
  {
   "cell_type": "code",
   "execution_count": null,
   "id": "351c6849",
   "metadata": {},
   "outputs": [],
   "source": []
  },
  {
   "cell_type": "code",
   "execution_count": null,
   "id": "9973e983",
   "metadata": {},
   "outputs": [],
   "source": []
  },
  {
   "cell_type": "code",
   "execution_count": null,
   "id": "945e6063",
   "metadata": {},
   "outputs": [],
   "source": []
  },
  {
   "cell_type": "code",
   "execution_count": null,
   "id": "ff862b25",
   "metadata": {},
   "outputs": [],
   "source": []
  },
  {
   "cell_type": "code",
   "execution_count": null,
   "id": "1502fcd5",
   "metadata": {},
   "outputs": [],
   "source": []
  },
  {
   "cell_type": "code",
   "execution_count": null,
   "id": "08ef50a6",
   "metadata": {},
   "outputs": [],
   "source": []
  },
  {
   "cell_type": "code",
   "execution_count": null,
   "id": "3cf7e795",
   "metadata": {},
   "outputs": [],
   "source": []
  },
  {
   "cell_type": "code",
   "execution_count": null,
   "id": "92033a5d",
   "metadata": {},
   "outputs": [],
   "source": []
  },
  {
   "cell_type": "code",
   "execution_count": null,
   "id": "48fb0b48",
   "metadata": {},
   "outputs": [],
   "source": []
  },
  {
   "cell_type": "code",
   "execution_count": null,
   "id": "70ff65b7",
   "metadata": {},
   "outputs": [],
   "source": []
  },
  {
   "cell_type": "code",
   "execution_count": null,
   "id": "d2749b4c",
   "metadata": {},
   "outputs": [],
   "source": []
  },
  {
   "cell_type": "code",
   "execution_count": null,
   "id": "b79410c6",
   "metadata": {},
   "outputs": [],
   "source": []
  },
  {
   "cell_type": "code",
   "execution_count": null,
   "id": "633d0c8c",
   "metadata": {},
   "outputs": [],
   "source": []
  },
  {
   "cell_type": "code",
   "execution_count": null,
   "id": "7f45fadd",
   "metadata": {},
   "outputs": [],
   "source": []
  },
  {
   "cell_type": "code",
   "execution_count": null,
   "id": "808eb612",
   "metadata": {},
   "outputs": [],
   "source": []
  },
  {
   "cell_type": "code",
   "execution_count": null,
   "id": "5fc2930c",
   "metadata": {},
   "outputs": [],
   "source": []
  },
  {
   "cell_type": "code",
   "execution_count": null,
   "id": "5243438f",
   "metadata": {},
   "outputs": [],
   "source": []
  },
  {
   "cell_type": "code",
   "execution_count": null,
   "id": "614eacb4",
   "metadata": {},
   "outputs": [],
   "source": []
  },
  {
   "cell_type": "code",
   "execution_count": null,
   "id": "c947c834",
   "metadata": {},
   "outputs": [],
   "source": []
  },
  {
   "cell_type": "code",
   "execution_count": null,
   "id": "6c4a60c4",
   "metadata": {},
   "outputs": [],
   "source": []
  },
  {
   "cell_type": "code",
   "execution_count": null,
   "id": "83ff046b",
   "metadata": {},
   "outputs": [],
   "source": []
  },
  {
   "cell_type": "code",
   "execution_count": null,
   "id": "98ee51b9",
   "metadata": {},
   "outputs": [],
   "source": []
  }
 ],
 "metadata": {
  "kernelspec": {
   "display_name": "Python 3 (ipykernel)",
   "language": "python",
   "name": "python3"
  },
  "language_info": {
   "codemirror_mode": {
    "name": "ipython",
    "version": 3
   },
   "file_extension": ".py",
   "mimetype": "text/x-python",
   "name": "python",
   "nbconvert_exporter": "python",
   "pygments_lexer": "ipython3",
   "version": "3.11.0"
  }
 },
 "nbformat": 4,
 "nbformat_minor": 5
}
